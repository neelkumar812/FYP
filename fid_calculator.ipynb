{
 "cells": [
  {
   "cell_type": "code",
   "execution_count": 1,
   "metadata": {},
   "outputs": [
    {
     "name": "stdout",
     "output_type": "stream",
     "text": [
      "Collecting pytorch-fid\n",
      "  Downloading pytorch_fid-0.3.0-py3-none-any.whl (15 kB)\n",
      "Requirement already satisfied: torchvision>=0.2.2 in c:\\users\\neel\\anaconda3\\envs\\tf-gpu\\lib\\site-packages (from pytorch-fid) (0.12.0)\n",
      "Requirement already satisfied: scipy in c:\\users\\neel\\anaconda3\\envs\\tf-gpu\\lib\\site-packages (from pytorch-fid) (1.7.3)\n",
      "Requirement already satisfied: torch>=1.0.1 in c:\\users\\neel\\anaconda3\\envs\\tf-gpu\\lib\\site-packages (from pytorch-fid) (1.11.0)\n",
      "Requirement already satisfied: pillow in c:\\users\\neel\\anaconda3\\envs\\tf-gpu\\lib\\site-packages (from pytorch-fid) (9.0.1)\n",
      "Requirement already satisfied: numpy in c:\\users\\neel\\anaconda3\\envs\\tf-gpu\\lib\\site-packages (from pytorch-fid) (1.22.3)\n",
      "Requirement already satisfied: typing_extensions in c:\\users\\neel\\anaconda3\\envs\\tf-gpu\\lib\\site-packages (from torch>=1.0.1->pytorch-fid) (4.1.1)\n",
      "Requirement already satisfied: requests in c:\\users\\neel\\anaconda3\\envs\\tf-gpu\\lib\\site-packages (from torchvision>=0.2.2->pytorch-fid) (2.27.1)\n",
      "Requirement already satisfied: idna<4,>=2.5 in c:\\users\\neel\\anaconda3\\envs\\tf-gpu\\lib\\site-packages (from requests->torchvision>=0.2.2->pytorch-fid) (3.3)\n",
      "Requirement already satisfied: certifi>=2017.4.17 in c:\\users\\neel\\anaconda3\\envs\\tf-gpu\\lib\\site-packages (from requests->torchvision>=0.2.2->pytorch-fid) (2022.9.24)\n",
      "Requirement already satisfied: charset-normalizer~=2.0.0 in c:\\users\\neel\\anaconda3\\envs\\tf-gpu\\lib\\site-packages (from requests->torchvision>=0.2.2->pytorch-fid) (2.0.4)\n",
      "Requirement already satisfied: urllib3<1.27,>=1.21.1 in c:\\users\\neel\\anaconda3\\envs\\tf-gpu\\lib\\site-packages (from requests->torchvision>=0.2.2->pytorch-fid) (1.26.9)\n",
      "Installing collected packages: pytorch-fid\n",
      "Successfully installed pytorch-fid-0.3.0\n",
      "Note: you may need to restart the kernel to use updated packages.\n"
     ]
    }
   ],
   "source": [
    "! pip install pytorch-fid"
   ]
  },
  {
   "cell_type": "code",
   "execution_count": 1,
   "metadata": {},
   "outputs": [
    {
     "name": "stdout",
     "output_type": "stream",
     "text": [
      "Warning: batch size is bigger than the data size. Setting batch size to data size\n",
      "Warning: batch size is bigger than the data size. Setting batch size to data size\n",
      "FID:  74.29441552675075\n"
     ]
    },
    {
     "name": "stderr",
     "output_type": "stream",
     "text": [
      "\n",
      "  0%|          | 0/1 [00:00<?, ?it/s]\n",
      "100%|██████████| 1/1 [00:09<00:00,  9.21s/it]\n",
      "100%|██████████| 1/1 [00:09<00:00,  9.72s/it]\n",
      "\n",
      "  0%|          | 0/1 [00:00<?, ?it/s]\n",
      "100%|██████████| 1/1 [00:05<00:00,  5.64s/it]\n",
      "100%|██████████| 1/1 [00:06<00:00,  6.62s/it]\n"
     ]
    }
   ],
   "source": [
    "! python -m pytorch_fid C:\\Users\\Neel\\OneDrive\\Desktop\\University\\Y4S2\\FYP\\Visualizations\\1\\ C:\\Users\\Neel\\OneDrive\\Desktop\\University\\Y4S2\\FYP\\Visualizations\\2\\"
   ]
  }
 ],
 "metadata": {
  "kernelspec": {
   "display_name": "tf-gpu",
   "language": "python",
   "name": "python3"
  },
  "language_info": {
   "codemirror_mode": {
    "name": "ipython",
    "version": 3
   },
   "file_extension": ".py",
   "mimetype": "text/x-python",
   "name": "python",
   "nbconvert_exporter": "python",
   "pygments_lexer": "ipython3",
   "version": "3.9.12"
  }
 },
 "nbformat": 4,
 "nbformat_minor": 2
}
